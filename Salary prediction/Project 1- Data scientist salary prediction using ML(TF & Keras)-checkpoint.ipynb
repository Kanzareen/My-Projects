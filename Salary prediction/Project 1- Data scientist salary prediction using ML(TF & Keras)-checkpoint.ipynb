{
 "cells": [
  {
   "cell_type": "markdown",
   "id": "b5c9a4f2",
   "metadata": {},
   "source": [
    "### Importing the Libraries"
   ]
  },
  {
   "cell_type": "code",
   "execution_count": 2,
   "id": "115a0acd",
   "metadata": {},
   "outputs": [],
   "source": [
    "import numpy as np\n",
    "import pandas as pd\n",
    "\n",
    "import seaborn as sns\n",
    "import matplotlib.pyplot as plt\n",
    "\n",
    "from sklearn.model_selection import train_test_split\n",
    "from sklearn.preprocessing import MinMaxScaler\n",
    "\n",
    "from tensorflow.keras.models import load_model\n",
    "from tensorflow.keras.models import Model\n",
    "from tensorflow.keras.layers import LeakyReLU\n",
    "from tensorflow.keras.layers import Input\n",
    "from tensorflow.keras.layers import Dense\n",
    "from tensorflow.keras.layers import BatchNormalization"
   ]
  },
  {
   "cell_type": "markdown",
   "id": "96840803",
   "metadata": {},
   "source": [
    "### Loading the Data"
   ]
  },
  {
   "cell_type": "code",
   "execution_count": 3,
   "id": "b5334d52",
   "metadata": {},
   "outputs": [],
   "source": [
    "df = pd.read_csv(\"Data Scientist salaries.csv\")"
   ]
  },
  {
   "cell_type": "markdown",
   "id": "0b273ecb",
   "metadata": {},
   "source": [
    "### Checking the attributes"
   ]
  },
  {
   "cell_type": "code",
   "execution_count": 4,
   "id": "d8a6c5bd",
   "metadata": {},
   "outputs": [
    {
     "data": {
      "text/html": [
       "<div>\n",
       "<style scoped>\n",
       "    .dataframe tbody tr th:only-of-type {\n",
       "        vertical-align: middle;\n",
       "    }\n",
       "\n",
       "    .dataframe tbody tr th {\n",
       "        vertical-align: top;\n",
       "    }\n",
       "\n",
       "    .dataframe thead th {\n",
       "        text-align: right;\n",
       "    }\n",
       "</style>\n",
       "<table border=\"1\" class=\"dataframe\">\n",
       "  <thead>\n",
       "    <tr style=\"text-align: right;\">\n",
       "      <th></th>\n",
       "      <th>Unnamed: 0</th>\n",
       "      <th>work_year</th>\n",
       "      <th>experience_level</th>\n",
       "      <th>employment_type</th>\n",
       "      <th>job_title</th>\n",
       "      <th>salary</th>\n",
       "      <th>salary_currency</th>\n",
       "      <th>salary_in_usd</th>\n",
       "      <th>employee_residence</th>\n",
       "      <th>remote_ratio</th>\n",
       "      <th>company_location</th>\n",
       "      <th>company_size</th>\n",
       "    </tr>\n",
       "  </thead>\n",
       "  <tbody>\n",
       "    <tr>\n",
       "      <th>0</th>\n",
       "      <td>0</td>\n",
       "      <td>2020</td>\n",
       "      <td>MI</td>\n",
       "      <td>FT</td>\n",
       "      <td>Data Scientist</td>\n",
       "      <td>70000</td>\n",
       "      <td>EUR</td>\n",
       "      <td>79833</td>\n",
       "      <td>DE</td>\n",
       "      <td>0</td>\n",
       "      <td>DE</td>\n",
       "      <td>L</td>\n",
       "    </tr>\n",
       "    <tr>\n",
       "      <th>1</th>\n",
       "      <td>1</td>\n",
       "      <td>2020</td>\n",
       "      <td>SE</td>\n",
       "      <td>FT</td>\n",
       "      <td>Machine Learning Scientist</td>\n",
       "      <td>260000</td>\n",
       "      <td>USD</td>\n",
       "      <td>260000</td>\n",
       "      <td>JP</td>\n",
       "      <td>0</td>\n",
       "      <td>JP</td>\n",
       "      <td>S</td>\n",
       "    </tr>\n",
       "    <tr>\n",
       "      <th>2</th>\n",
       "      <td>2</td>\n",
       "      <td>2020</td>\n",
       "      <td>SE</td>\n",
       "      <td>FT</td>\n",
       "      <td>Big Data Engineer</td>\n",
       "      <td>85000</td>\n",
       "      <td>GBP</td>\n",
       "      <td>109024</td>\n",
       "      <td>GB</td>\n",
       "      <td>50</td>\n",
       "      <td>GB</td>\n",
       "      <td>M</td>\n",
       "    </tr>\n",
       "    <tr>\n",
       "      <th>3</th>\n",
       "      <td>3</td>\n",
       "      <td>2020</td>\n",
       "      <td>MI</td>\n",
       "      <td>FT</td>\n",
       "      <td>Product Data Analyst</td>\n",
       "      <td>20000</td>\n",
       "      <td>USD</td>\n",
       "      <td>20000</td>\n",
       "      <td>HN</td>\n",
       "      <td>0</td>\n",
       "      <td>HN</td>\n",
       "      <td>S</td>\n",
       "    </tr>\n",
       "    <tr>\n",
       "      <th>4</th>\n",
       "      <td>4</td>\n",
       "      <td>2020</td>\n",
       "      <td>SE</td>\n",
       "      <td>FT</td>\n",
       "      <td>Machine Learning Engineer</td>\n",
       "      <td>150000</td>\n",
       "      <td>USD</td>\n",
       "      <td>150000</td>\n",
       "      <td>US</td>\n",
       "      <td>50</td>\n",
       "      <td>US</td>\n",
       "      <td>L</td>\n",
       "    </tr>\n",
       "  </tbody>\n",
       "</table>\n",
       "</div>"
      ],
      "text/plain": [
       "   Unnamed: 0  work_year experience_level employment_type  \\\n",
       "0           0       2020               MI              FT   \n",
       "1           1       2020               SE              FT   \n",
       "2           2       2020               SE              FT   \n",
       "3           3       2020               MI              FT   \n",
       "4           4       2020               SE              FT   \n",
       "\n",
       "                    job_title  salary salary_currency  salary_in_usd  \\\n",
       "0              Data Scientist   70000             EUR          79833   \n",
       "1  Machine Learning Scientist  260000             USD         260000   \n",
       "2           Big Data Engineer   85000             GBP         109024   \n",
       "3        Product Data Analyst   20000             USD          20000   \n",
       "4   Machine Learning Engineer  150000             USD         150000   \n",
       "\n",
       "  employee_residence  remote_ratio company_location company_size  \n",
       "0                 DE             0               DE            L  \n",
       "1                 JP             0               JP            S  \n",
       "2                 GB            50               GB            M  \n",
       "3                 HN             0               HN            S  \n",
       "4                 US            50               US            L  "
      ]
     },
     "execution_count": 4,
     "metadata": {},
     "output_type": "execute_result"
    }
   ],
   "source": [
    "df.head()"
   ]
  },
  {
   "cell_type": "code",
   "execution_count": 5,
   "id": "7ce82ede",
   "metadata": {},
   "outputs": [
    {
     "data": {
      "text/plain": [
       "(607, 12)"
      ]
     },
     "execution_count": 5,
     "metadata": {},
     "output_type": "execute_result"
    }
   ],
   "source": [
    "df.shape  #gives the row x columns"
   ]
  },
  {
   "cell_type": "code",
   "execution_count": 6,
   "id": "31753086",
   "metadata": {},
   "outputs": [
    {
     "name": "stdout",
     "output_type": "stream",
     "text": [
      "<class 'pandas.core.frame.DataFrame'>\n",
      "RangeIndex: 607 entries, 0 to 606\n",
      "Data columns (total 12 columns):\n",
      " #   Column              Non-Null Count  Dtype \n",
      "---  ------              --------------  ----- \n",
      " 0   Unnamed: 0          607 non-null    int64 \n",
      " 1   work_year           607 non-null    int64 \n",
      " 2   experience_level    607 non-null    object\n",
      " 3   employment_type     607 non-null    object\n",
      " 4   job_title           607 non-null    object\n",
      " 5   salary              607 non-null    int64 \n",
      " 6   salary_currency     607 non-null    object\n",
      " 7   salary_in_usd       607 non-null    int64 \n",
      " 8   employee_residence  607 non-null    object\n",
      " 9   remote_ratio        607 non-null    int64 \n",
      " 10  company_location    607 non-null    object\n",
      " 11  company_size        607 non-null    object\n",
      "dtypes: int64(5), object(7)\n",
      "memory usage: 57.0+ KB\n"
     ]
    }
   ],
   "source": [
    "df.info() "
   ]
  },
  {
   "cell_type": "code",
   "execution_count": 7,
   "id": "fd2f1117",
   "metadata": {},
   "outputs": [
    {
     "data": {
      "text/plain": [
       "Unnamed: 0            0\n",
       "work_year             0\n",
       "experience_level      0\n",
       "employment_type       0\n",
       "job_title             0\n",
       "salary                0\n",
       "salary_currency       0\n",
       "salary_in_usd         0\n",
       "employee_residence    0\n",
       "remote_ratio          0\n",
       "company_location      0\n",
       "company_size          0\n",
       "dtype: int64"
      ]
     },
     "execution_count": 7,
     "metadata": {},
     "output_type": "execute_result"
    }
   ],
   "source": [
    "df.isnull().sum() #Checking for null values"
   ]
  },
  {
   "cell_type": "code",
   "execution_count": 8,
   "id": "9fd9008c",
   "metadata": {},
   "outputs": [
    {
     "data": {
      "text/plain": [
       "0"
      ]
     },
     "execution_count": 8,
     "metadata": {},
     "output_type": "execute_result"
    }
   ],
   "source": [
    "df.duplicated().sum()"
   ]
  },
  {
   "cell_type": "code",
   "execution_count": 9,
   "id": "fca229d6",
   "metadata": {},
   "outputs": [
    {
     "data": {
      "text/plain": [
       "Index(['Unnamed: 0', 'work_year', 'experience_level', 'employment_type',\n",
       "       'job_title', 'salary', 'salary_currency', 'salary_in_usd',\n",
       "       'employee_residence', 'remote_ratio', 'company_location',\n",
       "       'company_size'],\n",
       "      dtype='object')"
      ]
     },
     "execution_count": 9,
     "metadata": {},
     "output_type": "execute_result"
    }
   ],
   "source": [
    "df.columns"
   ]
  },
  {
   "cell_type": "markdown",
   "id": "038e26df",
   "metadata": {},
   "source": [
    "### EDA & Visualization"
   ]
  },
  {
   "cell_type": "code",
   "execution_count": 10,
   "id": "ac1cbea7",
   "metadata": {},
   "outputs": [
    {
     "data": {
      "text/plain": [
       "<AxesSubplot:xlabel='work_year', ylabel='count'>"
      ]
     },
     "execution_count": 10,
     "metadata": {},
     "output_type": "execute_result"
    },
    {
     "data": {
      "image/png": "[encoded data removed]",
      "text/plain": [
       "<Figure size 432x288 with 1 Axes>"
      ]
     },
     "metadata": {
      "needs_background": "light"
     },
     "output_type": "display_data"
    }
   ],
   "source": [
    "sns.countplot(x = \"work_year\", data=df)"
   ]
  },
  {
   "cell_type": "code",
   "execution_count": 11,
   "id": "e49ee8ed",
   "metadata": {},
   "outputs": [
    {
     "data": {
      "text/plain": [
       "<AxesSubplot:xlabel='experience_level', ylabel='count'>"
      ]
     },
     "execution_count": 11,
     "metadata": {},
     "output_type": "execute_result"
    },
    {
     "data": {
      "image/png": "[encoded data removed]",
      "text/plain": [
       "<Figure size 432x288 with 1 Axes>"
      ]
     },
     "metadata": {
      "needs_background": "light"
     },
     "output_type": "display_data"
    }
   ],
   "source": [
    "sns.countplot(x = 'experience_level', data=df)"
   ]
  },
  {
   "cell_type": "code",
   "execution_count": 12,
   "id": "c9d3aae1",
   "metadata": {},
   "outputs": [
    {
     "data": {
      "text/plain": [
       "<AxesSubplot:xlabel='employment_type', ylabel='count'>"
      ]
     },
     "execution_count": 12,
     "metadata": {},
     "output_type": "execute_result"
    },
    {
     "data": {
      "image/png": "[encoded data removed]",
      "text/plain": [
       "<Figure size 432x288 with 1 Axes>"
      ]
     },
     "metadata": {
      "needs_background": "light"
     },
     "output_type": "display_data"
    }
   ],
   "source": [
    "sns.countplot(x = 'employment_type', data=df)"
   ]
  },
  {
   "cell_type": "code",
   "execution_count": 13,
   "id": "4e3e1b36",
   "metadata": {},
   "outputs": [
    {
     "name": "stderr",
     "output_type": "stream",
     "text": [
      "E:\\software\\Anaconda38\\lib\\site-packages\\seaborn\\_decorators.py:36: FutureWarning: Pass the following variable as a keyword arg: x. From version 0.12, the only valid positional argument will be `data`, and passing other arguments without an explicit keyword will result in an error or misinterpretation.\n",
      "  warnings.warn(\n"
     ]
    },
    {
     "data": {
      "text/plain": [
       "<AxesSubplot:xlabel='job_title', ylabel='count'>"
      ]
     },
     "execution_count": 13,
     "metadata": {},
     "output_type": "execute_result"
    },
    {
     "data": {
      "image/png": "[encoded data removed]",
      "text/plain": [
       "<Figure size 1440x576 with 1 Axes>"
      ]
     },
     "metadata": {},
     "output_type": "display_data"
    }
   ],
   "source": [
    "sns.set(rc={'figure.figsize':(20,8)})\n",
    "sns.countplot(df['job_title'][:7])"
   ]
  },
  {
   "cell_type": "code",
   "execution_count": 14,
   "id": "6281cfa0",
   "metadata": {},
   "outputs": [
    {
     "name": "stderr",
     "output_type": "stream",
     "text": [
      "E:\\software\\Anaconda38\\lib\\site-packages\\seaborn\\_decorators.py:36: FutureWarning: Pass the following variable as a keyword arg: x. From version 0.12, the only valid positional argument will be `data`, and passing other arguments without an explicit keyword will result in an error or misinterpretation.\n",
      "  warnings.warn(\n"
     ]
    },
    {
     "data": {
      "text/plain": [
       "<AxesSubplot:xlabel='salary_in_usd'>"
      ]
     },
     "execution_count": 14,
     "metadata": {},
     "output_type": "execute_result"
    },
    {
     "data": {
      "image/png": "[encoded data removed]",
      "text/plain": [
       "<Figure size 1440x576 with 1 Axes>"
      ]
     },
     "metadata": {},
     "output_type": "display_data"
    }
   ],
   "source": [
    "sns.swarmplot(df['salary_in_usd'])"
   ]
  },
  {
   "cell_type": "code",
   "execution_count": 15,
   "id": "9039e960",
   "metadata": {},
   "outputs": [
    {
     "data": {
      "text/plain": [
       "<AxesSubplot:xlabel='company_size', ylabel='count'>"
      ]
     },
     "execution_count": 15,
     "metadata": {},
     "output_type": "execute_result"
    },
    {
     "data": {
      "image/png": "[encoded data removed]",
      "text/plain": [
       "<Figure size 1440x576 with 1 Axes>"
      ]
     },
     "metadata": {},
     "output_type": "display_data"
    }
   ],
   "source": [
    "sns.countplot(x = \"company_size\", data=df)"
   ]
  },
  {
   "cell_type": "markdown",
   "id": "e5a768f5",
   "metadata": {},
   "source": [
    "### Prepare the Data to apply ML techniques"
   ]
  },
  {
   "cell_type": "code",
   "execution_count": 16,
   "id": "ca5e8e91",
   "metadata": {},
   "outputs": [],
   "source": [
    "X = df.drop(['Unnamed: 0', 'salary', 'salary_currency', 'salary_in_usd'], axis=1)\n",
    "Y = df['salary_in_usd']"
   ]
  },
  {
   "cell_type": "code",
   "execution_count": 17,
   "id": "a43f5fde",
   "metadata": {},
   "outputs": [],
   "source": [
    "X = pd.get_dummies(X)"
   ]
  },
  {
   "cell_type": "markdown",
   "id": "0d20c96a",
   "metadata": {},
   "source": [
    "### Splitting into train and test sets"
   ]
  },
  {
   "cell_type": "code",
   "execution_count": 18,
   "id": "d62b60e3",
   "metadata": {},
   "outputs": [],
   "source": [
    "X_train, X_test, Y_train, Y_test = train_test_split(X, Y, test_size=0.20, random_state=1)"
   ]
  },
  {
   "cell_type": "markdown",
   "id": "002349f9",
   "metadata": {},
   "source": [
    "### Scaling the Data"
   ]
  },
  {
   "cell_type": "code",
   "execution_count": 19,
   "id": "c38447a9",
   "metadata": {},
   "outputs": [],
   "source": [
    "t = MinMaxScaler()\n",
    "t.fit(X_train)\n",
    "X_train = t.transform(X_train)\n",
    "X_teste = t.transform(X_test)"
   ]
  },
  {
   "cell_type": "markdown",
   "id": "8e020975",
   "metadata": {},
   "source": [
    "### Reducing Dimension using AutoEncoder"
   ]
  },
  {
   "cell_type": "code",
   "execution_count": 20,
   "id": "47bef205",
   "metadata": {},
   "outputs": [],
   "source": [
    "#model preparation\n",
    "n_inputs = X.shape[1]  #selecting all the columns\n",
    "#defining Encoder\n",
    "input_data_shape = Input(shape=(n_inputs,))\n",
    "# encoder level 1\n",
    "encoder= Dense(n_inputs*2)(input_data_shape)\n",
    "encoder = BatchNormalization()(encoder)\n",
    "encoder= LeakyReLU()(encoder)\n",
    "# encoder level 2\n",
    "encoder= Dense(n_inputs)(encoder)\n",
    "encoder= BatchNormalization()(encoder)\n",
    "encoder= LeakyReLU()(encoder)\n",
    "# bottleneck\n",
    "n_bottleneck = round(float(n_inputs) / 2.0)\n",
    "bottleneck = Dense(n_bottleneck)(encoder)\n",
    "# define decoder, level 1\n",
    "decoder = Dense(n_inputs)(bottleneck)\n",
    "decoder = BatchNormalization()(decoder)\n",
    "decoder = LeakyReLU()(decoder)\n",
    "# decoder level 2\n",
    "decoder = Dense(n_inputs*2)(decoder)\n",
    "decoder = BatchNormalization()(decoder)\n",
    "decoder = LeakyReLU()(decoder)"
   ]
  },
  {
   "cell_type": "code",
   "execution_count": 21,
   "id": "ffdbbc98",
   "metadata": {},
   "outputs": [],
   "source": [
    "# output layer\n",
    "output = Dense(n_inputs, activation='linear')(decoder)\n",
    "# define autoencoder model\n",
    "model = Model(inputs=input_data_shape, outputs=output)\n",
    "# compile autoencoder model\n",
    "model.compile(optimizer='adam', loss='mse')"
   ]
  },
  {
   "cell_type": "code",
   "execution_count": 22,
   "id": "dddad958",
   "metadata": {},
   "outputs": [
    {
     "name": "stdout",
     "output_type": "stream",
     "text": [
      "Model: \"model\"\n",
      "_________________________________________________________________\n",
      " Layer (type)                Output Shape              Param #   \n",
      "=================================================================\n",
      " input_1 (InputLayer)        [(None, 170)]             0         \n",
      "                                                                 \n",
      " dense (Dense)               (None, 340)               58140     \n",
      "                                                                 \n",
      " batch_normalization (BatchN  (None, 340)              1360      \n",
      " ormalization)                                                   \n",
      "                                                                 \n",
      " leaky_re_lu (LeakyReLU)     (None, 340)               0         \n",
      "                                                                 \n",
      " dense_1 (Dense)             (None, 170)               57970     \n",
      "                                                                 \n",
      " batch_normalization_1 (Batc  (None, 170)              680       \n",
      " hNormalization)                                                 \n",
      "                                                                 \n",
      " leaky_re_lu_1 (LeakyReLU)   (None, 170)               0         \n",
      "                                                                 \n",
      " dense_2 (Dense)             (None, 85)                14535     \n",
      "                                                                 \n",
      " dense_3 (Dense)             (None, 170)               14620     \n",
      "                                                                 \n",
      " batch_normalization_2 (Batc  (None, 170)              680       \n",
      " hNormalization)                                                 \n",
      "                                                                 \n",
      " leaky_re_lu_2 (LeakyReLU)   (None, 170)               0         \n",
      "                                                                 \n",
      " dense_4 (Dense)             (None, 340)               58140     \n",
      "                                                                 \n",
      " batch_normalization_3 (Batc  (None, 340)              1360      \n",
      " hNormalization)                                                 \n",
      "                                                                 \n",
      " leaky_re_lu_3 (LeakyReLU)   (None, 340)               0         \n",
      "                                                                 \n",
      " dense_5 (Dense)             (None, 170)               57970     \n",
      "                                                                 \n",
      "=================================================================\n",
      "Total params: 265,455\n",
      "Trainable params: 263,415\n",
      "Non-trainable params: 2,040\n",
      "_________________________________________________________________\n"
     ]
    }
   ],
   "source": [
    "model.summary()"
   ]
  },
  {
   "cell_type": "markdown",
   "id": "07035e2e",
   "metadata": {},
   "source": [
    "### Fit the Autoencoder model to Reconstruct Input"
   ]
  },
  {
   "cell_type": "code",
   "execution_count": 23,
   "id": "693910ab",
   "metadata": {},
   "outputs": [
    {
     "name": "stdout",
     "output_type": "stream",
     "text": [
      "Epoch 1/50\n",
      "31/31 - 3s - loss: 17936103424.0000 - val_loss: 16365583360.0000 - 3s/epoch - 107ms/step\n",
      "Epoch 2/50\n",
      "31/31 - 0s - loss: 17934475264.0000 - val_loss: 16463997952.0000 - 273ms/epoch - 9ms/step\n",
      "Epoch 3/50\n",
      "31/31 - 0s - loss: 17932122112.0000 - val_loss: 16177221632.0000 - 256ms/epoch - 8ms/step\n",
      "Epoch 4/50\n",
      "31/31 - 0s - loss: 17929199616.0000 - val_loss: 16763419648.0000 - 270ms/epoch - 9ms/step\n",
      "Epoch 5/50\n",
      "31/31 - 0s - loss: 17925902336.0000 - val_loss: 16872508416.0000 - 259ms/epoch - 8ms/step\n",
      "Epoch 6/50\n",
      "31/31 - 0s - loss: 17922228224.0000 - val_loss: 16982564864.0000 - 264ms/epoch - 9ms/step\n",
      "Epoch 7/50\n",
      "31/31 - 0s - loss: 17917968384.0000 - val_loss: 16856336384.0000 - 247ms/epoch - 8ms/step\n",
      "Epoch 8/50\n",
      "31/31 - 0s - loss: 17913143296.0000 - val_loss: 16936080384.0000 - 241ms/epoch - 8ms/step\n",
      "Epoch 9/50\n",
      "31/31 - 0s - loss: 17907857408.0000 - val_loss: 16778549248.0000 - 304ms/epoch - 10ms/step\n",
      "Epoch 10/50\n",
      "31/31 - 0s - loss: 17902235648.0000 - val_loss: 17096049664.0000 - 264ms/epoch - 9ms/step\n",
      "Epoch 11/50\n",
      "31/31 - 0s - loss: 17896157184.0000 - val_loss: 18447589376.0000 - 288ms/epoch - 9ms/step\n",
      "Epoch 12/50\n",
      "31/31 - 0s - loss: 17890070528.0000 - val_loss: 18320652288.0000 - 242ms/epoch - 8ms/step\n",
      "Epoch 13/50\n",
      "31/31 - 0s - loss: 17882449920.0000 - val_loss: 18078191616.0000 - 281ms/epoch - 9ms/step\n",
      "Epoch 14/50\n",
      "31/31 - 0s - loss: 17874253824.0000 - val_loss: 17476827136.0000 - 245ms/epoch - 8ms/step\n",
      "Epoch 15/50\n",
      "31/31 - 0s - loss: 17866530816.0000 - val_loss: 16545817600.0000 - 291ms/epoch - 9ms/step\n",
      "Epoch 16/50\n",
      "31/31 - 0s - loss: 17857851392.0000 - val_loss: 23115886592.0000 - 250ms/epoch - 8ms/step\n",
      "Epoch 17/50\n",
      "31/31 - 0s - loss: 17849100288.0000 - val_loss: 21617197056.0000 - 244ms/epoch - 8ms/step\n",
      "Epoch 18/50\n",
      "31/31 - 0s - loss: 17839085568.0000 - val_loss: 15106592768.0000 - 269ms/epoch - 9ms/step\n",
      "Epoch 19/50\n",
      "31/31 - 0s - loss: 17828435968.0000 - val_loss: 16279378944.0000 - 249ms/epoch - 8ms/step\n",
      "Epoch 20/50\n",
      "31/31 - 0s - loss: 17817458688.0000 - val_loss: 16517510144.0000 - 289ms/epoch - 9ms/step\n",
      "Epoch 21/50\n",
      "31/31 - 0s - loss: 17806278656.0000 - val_loss: 18837798912.0000 - 267ms/epoch - 9ms/step\n",
      "Epoch 22/50\n",
      "31/31 - 0s - loss: 17795037184.0000 - val_loss: 8843260928.0000 - 243ms/epoch - 8ms/step\n",
      "Epoch 23/50\n",
      "31/31 - 0s - loss: 17782063104.0000 - val_loss: 9421890560.0000 - 275ms/epoch - 9ms/step\n",
      "Epoch 24/50\n",
      "31/31 - 0s - loss: 17769797632.0000 - val_loss: 7742849536.0000 - 265ms/epoch - 9ms/step\n",
      "Epoch 25/50\n",
      "31/31 - 0s - loss: 17754019840.0000 - val_loss: 8952414208.0000 - 243ms/epoch - 8ms/step\n",
      "Epoch 26/50\n",
      "31/31 - 0s - loss: 17742923776.0000 - val_loss: 12403518464.0000 - 268ms/epoch - 9ms/step\n",
      "Epoch 27/50\n",
      "31/31 - 0s - loss: 17730150400.0000 - val_loss: 8397021184.0000 - 245ms/epoch - 8ms/step\n",
      "Epoch 28/50\n",
      "31/31 - 0s - loss: 17718450176.0000 - val_loss: 18764021760.0000 - 245ms/epoch - 8ms/step\n",
      "Epoch 29/50\n",
      "31/31 - 0s - loss: 17701072896.0000 - val_loss: 16692484096.0000 - 266ms/epoch - 9ms/step\n",
      "Epoch 30/50\n",
      "31/31 - 0s - loss: 17683656704.0000 - val_loss: 12422831104.0000 - 241ms/epoch - 8ms/step\n",
      "Epoch 31/50\n",
      "31/31 - 0s - loss: 17669783552.0000 - val_loss: 15356395520.0000 - 291ms/epoch - 9ms/step\n",
      "Epoch 32/50\n",
      "31/31 - 0s - loss: 17652598784.0000 - val_loss: 18420830208.0000 - 250ms/epoch - 8ms/step\n",
      "Epoch 33/50\n",
      "31/31 - 0s - loss: 17641426944.0000 - val_loss: 16587646976.0000 - 287ms/epoch - 9ms/step\n",
      "Epoch 34/50\n",
      "31/31 - 0s - loss: 17621127168.0000 - val_loss: 26704384000.0000 - 249ms/epoch - 8ms/step\n",
      "Epoch 35/50\n",
      "31/31 - 0s - loss: 17598967808.0000 - val_loss: 47775645696.0000 - 257ms/epoch - 8ms/step\n",
      "Epoch 36/50\n",
      "31/31 - 0s - loss: 17583097856.0000 - val_loss: 56838746112.0000 - 268ms/epoch - 9ms/step\n",
      "Epoch 37/50\n",
      "31/31 - 0s - loss: 17564848128.0000 - val_loss: 28779458560.0000 - 268ms/epoch - 9ms/step\n",
      "Epoch 38/50\n",
      "31/31 - 0s - loss: 17544843264.0000 - val_loss: 9959135232.0000 - 258ms/epoch - 8ms/step\n",
      "Epoch 39/50\n",
      "31/31 - 0s - loss: 17523484672.0000 - val_loss: 31014406144.0000 - 266ms/epoch - 9ms/step\n",
      "Epoch 40/50\n",
      "31/31 - 0s - loss: 17502576640.0000 - val_loss: 27514914816.0000 - 262ms/epoch - 8ms/step\n",
      "Epoch 41/50\n",
      "31/31 - 0s - loss: 17484193792.0000 - val_loss: 24206370816.0000 - 244ms/epoch - 8ms/step\n",
      "Epoch 42/50\n",
      "31/31 - 0s - loss: 17472063488.0000 - val_loss: 35883368448.0000 - 250ms/epoch - 8ms/step\n",
      "Epoch 43/50\n",
      "31/31 - 0s - loss: 17450915840.0000 - val_loss: 33152647168.0000 - 252ms/epoch - 8ms/step\n",
      "Epoch 44/50\n",
      "31/31 - 0s - loss: 17424316416.0000 - val_loss: 37433602048.0000 - 255ms/epoch - 8ms/step\n",
      "Epoch 45/50\n",
      "31/31 - 0s - loss: 17408227328.0000 - val_loss: 33441001472.0000 - 251ms/epoch - 8ms/step\n",
      "Epoch 46/50\n",
      "31/31 - 0s - loss: 17381617664.0000 - val_loss: 74473537536.0000 - 255ms/epoch - 8ms/step\n",
      "Epoch 47/50\n",
      "31/31 - 0s - loss: 17357498368.0000 - val_loss: 29364531200.0000 - 254ms/epoch - 8ms/step\n",
      "Epoch 48/50\n",
      "31/31 - 0s - loss: 17333334016.0000 - val_loss: 34827063296.0000 - 261ms/epoch - 8ms/step\n",
      "Epoch 49/50\n",
      "31/31 - 0s - loss: 17312749568.0000 - val_loss: 64431935488.0000 - 248ms/epoch - 8ms/step\n",
      "Epoch 50/50\n",
      "31/31 - 0s - loss: 17292582912.0000 - val_loss: 36648452096.0000 - 250ms/epoch - 8ms/step\n"
     ]
    }
   ],
   "source": [
    "history = model.fit(X_train, Y_train, epochs=50, batch_size=16, verbose=2, validation_data=(X_test,Y_test))"
   ]
  },
  {
   "cell_type": "code",
   "execution_count": 24,
   "id": "e2f49d9b",
   "metadata": {},
   "outputs": [
    {
     "name": "stdout",
     "output_type": "stream",
     "text": [
      "WARNING:tensorflow:Compiled the loaded model, but the compiled metrics have yet to be built. `model.compile_metrics` will be empty until you train or evaluate the model.\n"
     ]
    }
   ],
   "source": [
    "# define an encoder model (without the decoder)\n",
    "encoder = Model(inputs=input_data_shape, outputs=bottleneck)\n",
    "# save the encoder to file\n",
    "encoder.save('encoder.h5')"
   ]
  },
  {
   "cell_type": "code",
   "execution_count": 25,
   "id": "54a93d16",
   "metadata": {},
   "outputs": [
    {
     "name": "stdout",
     "output_type": "stream",
     "text": [
      "WARNING:tensorflow:No training configuration found in the save file, so the model was *not* compiled. Compile it manually.\n",
      "16/16 [==============================] - 0s 3ms/step\n",
      "4/4 [==============================] - 0s 5ms/step\n"
     ]
    }
   ],
   "source": [
    "# load the model from file\n",
    "encoder = load_model('encoder.h5')\n",
    "\n",
    "# encode the train data\n",
    "X_train_encode = encoder.predict(X_train)\n",
    "# encode the test data\n",
    "X_test_encode = encoder.predict(X_test)"
   ]
  },
  {
   "cell_type": "code",
   "execution_count": 26,
   "id": "3164412d",
   "metadata": {},
   "outputs": [],
   "source": [
    "# importing the libraries\n",
    "from keras.models import Sequential\n",
    "from keras.layers import Dense\n",
    " \n",
    "# create ANN model\n",
    "model = Sequential()\n",
    " \n",
    "# Defining the Input layer and FIRST hidden layer, both are same!\n",
    "model.add(Dense(units=5, input_dim=85, kernel_initializer='normal', activation='relu'))\n",
    " \n",
    "# Defining the Second layer of the model\n",
    "# after the first layer we don't have to specify input_dim as keras configure it automatically\n",
    "model.add(Dense(units=5, kernel_initializer='normal', activation='tanh'))\n",
    " \n",
    "# The output neuron is a single fully connected node \n",
    "# Since we will be predicting a single number\n",
    "model.add(Dense(1, kernel_initializer='normal'))"
   ]
  },
  {
   "cell_type": "code",
   "execution_count": 27,
   "id": "abc0901e",
   "metadata": {},
   "outputs": [
    {
     "name": "stdout",
     "output_type": "stream",
     "text": [
      "Epoch 1/10\n",
      "10/10 [==============================] - 1s 4ms/step - loss: 17936615424.0000\n",
      "Epoch 2/10\n",
      "10/10 [==============================] - 0s 3ms/step - loss: 17936599040.0000\n",
      "Epoch 3/10\n",
      "10/10 [==============================] - 0s 2ms/step - loss: 17936580608.0000\n",
      "Epoch 4/10\n",
      "10/10 [==============================] - 0s 2ms/step - loss: 17936558080.0000\n",
      "Epoch 5/10\n",
      "10/10 [==============================] - 0s 4ms/step - loss: 17936539648.0000\n",
      "Epoch 6/10\n",
      "10/10 [==============================] - 0s 4ms/step - loss: 17936519168.0000\n",
      "Epoch 7/10\n",
      "10/10 [==============================] - 0s 4ms/step - loss: 17936498688.0000\n",
      "Epoch 8/10\n",
      "10/10 [==============================] - 0s 3ms/step - loss: 17936480256.0000\n",
      "Epoch 9/10\n",
      "10/10 [==============================] - 0s 3ms/step - loss: 17936463872.0000\n",
      "Epoch 10/10\n",
      "10/10 [==============================] - 0s 4ms/step - loss: 17936447488.0000\n"
     ]
    },
    {
     "data": {
      "text/plain": [
       "<keras.callbacks.History at 0x1e691099a90>"
      ]
     },
     "execution_count": 27,
     "metadata": {},
     "output_type": "execute_result"
    }
   ],
   "source": [
    "# Compiling the model\n",
    "model.compile(loss='mean_squared_error', optimizer='adam')\n",
    " \n",
    "# Fitting the ANN to the Training set\n",
    "model.fit(X_train_encode, Y_train ,batch_size = 50, epochs = 10, verbose=1)"
   ]
  },
  {
   "cell_type": "code",
   "execution_count": 30,
   "id": "15ddb5b2",
   "metadata": {},
   "outputs": [
    {
     "name": "stdout",
     "output_type": "stream",
     "text": [
      "4/4 [==============================] - 0s 4ms/step\n"
     ]
    }
   ],
   "source": [
    "Y_pred=model.predict(X_test_encode)"
   ]
  },
  {
   "cell_type": "code",
   "execution_count": 34,
   "id": "4b228936",
   "metadata": {},
   "outputs": [
    {
     "name": "stdout",
     "output_type": "stream",
     "text": [
      "[0.8688253]\n"
     ]
    }
   ],
   "source": [
    "print(Y_pred[1])"
   ]
  }
 ],
 "metadata": {
  "kernelspec": {
   "display_name": "Python 3 (ipykernel)",
   "language": "python",
   "name": "python3"
  },
  "language_info": {
   "codemirror_mode": {
    "name": "ipython",
    "version": 3
   },
   "file_extension": ".py",
   "mimetype": "text/x-python",
   "name": "python",
   "nbconvert_exporter": "python",
   "pygments_lexer": "ipython3",
   "version": "3.9.7"
  }
 },
 "nbformat": 4,
 "nbformat_minor": 5
}
